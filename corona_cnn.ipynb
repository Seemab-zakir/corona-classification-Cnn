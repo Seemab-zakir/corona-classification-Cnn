{
  "cells": [
    {
      "cell_type": "markdown",
      "metadata": {
        "id": "view-in-github",
        "colab_type": "text"
      },
      "source": [
        "<a href=\"https://colab.research.google.com/github/Seemab-zakir/corona-classification-Cnn/blob/main/corona_cnn.ipynb\" target=\"_parent\"><img src=\"https://colab.research.google.com/assets/colab-badge.svg\" alt=\"Open In Colab\"/></a>"
      ]
    },
    {
      "cell_type": "code",
      "execution_count": 1,
      "metadata": {
        "colab": {
          "base_uri": "https://localhost:8080/"
        },
        "id": "p0xtEb5-2WwR",
        "outputId": "5e69ae20-8660-4a06-e550-94398121c053"
      },
      "outputs": [
        {
          "output_type": "stream",
          "name": "stdout",
          "text": [
            "Mounted at /content/gdrive\n"
          ]
        }
      ],
      "source": [
        "from google.colab import drive\n",
        "drive.mount('/content/gdrive')"
      ]
    },
    {
      "cell_type": "code",
      "execution_count": 2,
      "metadata": {
        "id": "R6e3cO9f4gkd"
      },
      "outputs": [],
      "source": [
        "import tensorflow as tf\n",
        "from keras.preprocessing import image\n",
        "import os\n",
        "from sklearn.utils import shuffle\n",
        "from tensorflow.keras.preprocessing.image import load_img, img_to_array, array_to_img, ImageDataGenerator\n",
        "from tensorflow.keras.applications import vgg16 \n",
        "from keras.applications.vgg16 import preprocess_input\n",
        "import numpy as np\n",
        "import pandas as pd \n",
        "from keras.utils import to_categorical\n",
        "from sklearn.model_selection import train_test_split\n",
        "import matplotlib.pyplot as plt\n",
        "import random"
      ]
    },
    {
      "cell_type": "code",
      "execution_count": 3,
      "metadata": {
        "colab": {
          "base_uri": "https://localhost:8080/"
        },
        "id": "iPFZsGbi463p",
        "outputId": "50165e64-292d-47e4-ae80-7381242aa20b"
      },
      "outputs": [
        {
          "output_type": "stream",
          "name": "stdout",
          "text": [
            "Archive:  /content/gdrive/MyDrive/Coronaro_dataset.zip\n",
            " extracting: Coronaro_dataset/background/BG_pz01.jpeg  \n",
            " extracting: Coronaro_dataset/background/BG_pz02.jpeg  \n",
            " extracting: Coronaro_dataset/background/BG_pz03a.jpeg  \n",
            " extracting: Coronaro_dataset/background/BG_pz03b.jpeg  \n",
            " extracting: Coronaro_dataset/background/BG_pz04.jpeg  \n",
            " extracting: Coronaro_dataset/background/BG_pz05.jpeg  \n",
            " extracting: Coronaro_dataset/background/BG_pz06.jpeg  \n",
            " extracting: Coronaro_dataset/background/BG_pz07.jpeg  \n",
            " extracting: Coronaro_dataset/background/BG_pz08a.jpeg  \n",
            " extracting: Coronaro_dataset/background/BG_pz09.jpeg  \n",
            " extracting: Coronaro_dataset/background/BG_pz10.jpeg  \n",
            " extracting: Coronaro_dataset/background/BG_pz11.jpeg  \n",
            " extracting: Coronaro_dataset/background/BG_pz12.jpeg  \n",
            " extracting: Coronaro_dataset/background/BG_pz13.jpeg  \n",
            " extracting: Coronaro_dataset/background/BG_pz14.jpeg  \n",
            " extracting: Coronaro_dataset/background/BG_pz15.jpeg  \n",
            " extracting: Coronaro_dataset/background/BG_pz15b.jpeg  \n",
            " extracting: Coronaro_dataset/background/BG_pz15c.jpeg  \n",
            " extracting: Coronaro_dataset/background/BG_pz16.jpeg  \n",
            " extracting: Coronaro_dataset/background/BG_pz17a.jpeg  \n",
            " extracting: Coronaro_dataset/background/BG_pz17b.jpeg  \n",
            " extracting: Coronaro_dataset/background/BG_pz18.jpeg  \n",
            " extracting: Coronaro_dataset/background/BG_pz18b.jpeg  \n",
            " extracting: Coronaro_dataset/background/BG_pz19.jpeg  \n",
            " extracting: Coronaro_dataset/background/BG_pz20.jpeg  \n",
            " extracting: Coronaro_dataset/background/BG_pz21a.jpeg  \n",
            " extracting: Coronaro_dataset/background/BG_pz21b.jpeg  \n",
            " extracting: Coronaro_dataset/background/BG_pz21c.jpeg  \n",
            " extracting: Coronaro_dataset/background/BG_pz22.jpeg  \n",
            " extracting: Coronaro_dataset/background/BG_pz23.jpeg  \n",
            " extracting: Coronaro_dataset/background/BG_pz24.jpeg  \n",
            " extracting: Coronaro_dataset/background/BG_pz25.jpeg  \n",
            " extracting: Coronaro_dataset/background/BG_pz26.jpeg  \n",
            " extracting: Coronaro_dataset/background/BG_pz27.jpeg  \n",
            " extracting: Coronaro_dataset/background/BG_pz28.jpeg  \n",
            " extracting: Coronaro_dataset/background/BG_pz29.jpeg  \n",
            " extracting: Coronaro_dataset/background/BG_pz29b.jpeg  \n",
            " extracting: Coronaro_dataset/background/BG_pz30.jpeg  \n",
            " extracting: Coronaro_dataset/background/BG_pz31a.jpeg  \n",
            " extracting: Coronaro_dataset/background/BG_pz31b.jpeg  \n",
            " extracting: Coronaro_dataset/background/BG_pz32.jpeg  \n",
            " extracting: Coronaro_dataset/background/BG_pz33.jpeg  \n",
            " extracting: Coronaro_dataset/background/BG_pz33b.jpeg  \n",
            " extracting: Coronaro_dataset/background/BG_pz34.jpeg  \n",
            " extracting: Coronaro_dataset/background/BG_pz35.jpeg  \n",
            " extracting: Coronaro_dataset/background/BG_pz36.jpeg  \n",
            " extracting: Coronaro_dataset/background/BG_pz37.jpeg  \n",
            " extracting: Coronaro_dataset/background/BG_pz38.jpeg  \n",
            " extracting: Coronaro_dataset/background/BG_pz39.jpeg  \n",
            " extracting: Coronaro_dataset/background/BG_pz40.jpeg  \n",
            " extracting: Coronaro_dataset/stenosis/S_pz01.jpeg  \n",
            " extracting: Coronaro_dataset/stenosis/S_pz02a.jpeg  \n",
            " extracting: Coronaro_dataset/stenosis/S_pz02b.jpeg  \n",
            " extracting: Coronaro_dataset/stenosis/S_pz03.jpeg  \n",
            " extracting: Coronaro_dataset/stenosis/S_pz04a.jpeg  \n",
            " extracting: Coronaro_dataset/stenosis/S_pz04b.jpeg  \n",
            " extracting: Coronaro_dataset/stenosis/S_pz04c.jpeg  \n",
            " extracting: Coronaro_dataset/stenosis/S_pz04d.jpeg  \n",
            " extracting: Coronaro_dataset/stenosis/S_pz05.jpeg  \n",
            " extracting: Coronaro_dataset/stenosis/S_pz06.jpeg  \n",
            " extracting: Coronaro_dataset/stenosis/S_pz07a.jpeg  \n",
            " extracting: Coronaro_dataset/stenosis/S_pz07b.jpeg  \n",
            " extracting: Coronaro_dataset/stenosis/S_pz07c.jpeg  \n",
            " extracting: Coronaro_dataset/stenosis/S_pz08.jpeg  \n",
            " extracting: Coronaro_dataset/stenosis/S_pz09.jpeg  \n",
            " extracting: Coronaro_dataset/stenosis/S_pz10.jpeg  \n",
            " extracting: Coronaro_dataset/stenosis/S_pz11.jpeg  \n",
            " extracting: Coronaro_dataset/stenosis/S_pz12.jpeg  \n",
            " extracting: Coronaro_dataset/stenosis/S_pz13a.jpeg  \n",
            " extracting: Coronaro_dataset/stenosis/S_pz13b.jpeg  \n",
            " extracting: Coronaro_dataset/stenosis/S_pz14a.jpeg  \n",
            " extracting: Coronaro_dataset/stenosis/S_pz14b.jpeg  \n",
            " extracting: Coronaro_dataset/stenosis/S_pz14c.jpeg  \n",
            " extracting: Coronaro_dataset/stenosis/S_pz14d.jpeg  \n",
            " extracting: Coronaro_dataset/stenosis/S_pz14e.jpeg  \n",
            " extracting: Coronaro_dataset/stenosis/S_pz15.jpeg  \n",
            " extracting: Coronaro_dataset/stenosis/S_pz16.jpeg  \n",
            " extracting: Coronaro_dataset/stenosis/S_pz17a.jpeg  \n",
            " extracting: Coronaro_dataset/stenosis/S_pz17b.jpeg  \n",
            " extracting: Coronaro_dataset/stenosis/S_pz18.jpeg  \n",
            " extracting: Coronaro_dataset/stenosis/S_pz19a.jpeg  \n",
            " extracting: Coronaro_dataset/stenosis/S_pz19b.jpeg  \n",
            " extracting: Coronaro_dataset/stenosis/S_pz20.jpeg  \n",
            " extracting: Coronaro_dataset/stenosis/S_pz21.jpeg  \n",
            " extracting: Coronaro_dataset/stenosis/S_pz22.jpeg  \n",
            " extracting: Coronaro_dataset/stenosis/S_pz23a.jpeg  \n",
            " extracting: Coronaro_dataset/stenosis/S_pz23b.jpeg  \n",
            " extracting: Coronaro_dataset/stenosis/S_pz23c.jpeg  \n",
            " extracting: Coronaro_dataset/stenosis/S_pz24.jpeg  \n",
            " extracting: Coronaro_dataset/stenosis/S_pz25.jpeg  \n",
            " extracting: Coronaro_dataset/stenosis/S_pz26a.jpeg  \n",
            " extracting: Coronaro_dataset/stenosis/S_pz26b.jpeg  \n",
            " extracting: Coronaro_dataset/stenosis/S_pz27.jpeg  \n",
            " extracting: Coronaro_dataset/stenosis/S_pz28.jpeg  \n",
            " extracting: Coronaro_dataset/stenosis/S_pz29.jpeg  \n",
            " extracting: Coronaro_dataset/stenosis/S_pz30.jpeg  \n",
            " extracting: Coronaro_dataset/stenosis/S_pz31.jpeg  \n",
            " extracting: Coronaro_dataset/stenosis/S_pz32.jpeg  \n",
            " extracting: Coronaro_dataset/stenosis/S_pz33.jpeg  \n",
            " extracting: Coronaro_dataset/stenosis/S_pz34.jpeg  \n"
          ]
        }
      ],
      "source": [
        "!unzip /content/gdrive/MyDrive/Coronaro_dataset.zip "
      ]
    },
    {
      "cell_type": "code",
      "execution_count": 4,
      "metadata": {
        "id": "NW-L38I_yPsZ"
      },
      "outputs": [],
      "source": [
        "disease_types=['background', 'stenosis']\n",
        "data_dir = '/content/Coronaro_dataset'\n",
        "train_dir = os.path.join(data_dir)"
      ]
    },
    {
      "cell_type": "code",
      "execution_count": 5,
      "metadata": {
        "id": "hjvis81d3KNi"
      },
      "outputs": [],
      "source": [
        "data = []\n",
        "for defects_id, sp in enumerate(disease_types):\n",
        "    for file in os.listdir(os.path.join(train_dir, sp)):\n",
        "        data.append(['{}/{}'.format(sp, file), defects_id, sp])      \n",
        "df = pd.DataFrame(data, columns=['File', 'DiseaseID','DiseaseType'])"
      ]
    },
    {
      "cell_type": "code",
      "execution_count": 6,
      "metadata": {
        "colab": {
          "base_uri": "https://localhost:8080/",
          "height": 206
        },
        "id": "l_QCPG0ou5ZH",
        "outputId": "14d6752e-3e45-4855-a2ba-ccfdb19c838d"
      },
      "outputs": [
        {
          "output_type": "execute_result",
          "data": {
            "text/plain": [
              "                      File  DiseaseID DiseaseType\n",
              "0  background/BG_pz29.jpeg          0  background\n",
              "1  background/BG_pz36.jpeg          0  background\n",
              "2  background/BG_pz11.jpeg          0  background\n",
              "3  background/BG_pz33.jpeg          0  background\n",
              "4  background/BG_pz02.jpeg          0  background"
            ],
            "text/html": [
              "\n",
              "  <div id=\"df-a9cdd052-721e-4d10-a4d7-1e568688b5cd\">\n",
              "    <div class=\"colab-df-container\">\n",
              "      <div>\n",
              "<style scoped>\n",
              "    .dataframe tbody tr th:only-of-type {\n",
              "        vertical-align: middle;\n",
              "    }\n",
              "\n",
              "    .dataframe tbody tr th {\n",
              "        vertical-align: top;\n",
              "    }\n",
              "\n",
              "    .dataframe thead th {\n",
              "        text-align: right;\n",
              "    }\n",
              "</style>\n",
              "<table border=\"1\" class=\"dataframe\">\n",
              "  <thead>\n",
              "    <tr style=\"text-align: right;\">\n",
              "      <th></th>\n",
              "      <th>File</th>\n",
              "      <th>DiseaseID</th>\n",
              "      <th>DiseaseType</th>\n",
              "    </tr>\n",
              "  </thead>\n",
              "  <tbody>\n",
              "    <tr>\n",
              "      <th>0</th>\n",
              "      <td>background/BG_pz29.jpeg</td>\n",
              "      <td>0</td>\n",
              "      <td>background</td>\n",
              "    </tr>\n",
              "    <tr>\n",
              "      <th>1</th>\n",
              "      <td>background/BG_pz36.jpeg</td>\n",
              "      <td>0</td>\n",
              "      <td>background</td>\n",
              "    </tr>\n",
              "    <tr>\n",
              "      <th>2</th>\n",
              "      <td>background/BG_pz11.jpeg</td>\n",
              "      <td>0</td>\n",
              "      <td>background</td>\n",
              "    </tr>\n",
              "    <tr>\n",
              "      <th>3</th>\n",
              "      <td>background/BG_pz33.jpeg</td>\n",
              "      <td>0</td>\n",
              "      <td>background</td>\n",
              "    </tr>\n",
              "    <tr>\n",
              "      <th>4</th>\n",
              "      <td>background/BG_pz02.jpeg</td>\n",
              "      <td>0</td>\n",
              "      <td>background</td>\n",
              "    </tr>\n",
              "  </tbody>\n",
              "</table>\n",
              "</div>\n",
              "      <button class=\"colab-df-convert\" onclick=\"convertToInteractive('df-a9cdd052-721e-4d10-a4d7-1e568688b5cd')\"\n",
              "              title=\"Convert this dataframe to an interactive table.\"\n",
              "              style=\"display:none;\">\n",
              "        \n",
              "  <svg xmlns=\"http://www.w3.org/2000/svg\" height=\"24px\"viewBox=\"0 0 24 24\"\n",
              "       width=\"24px\">\n",
              "    <path d=\"M0 0h24v24H0V0z\" fill=\"none\"/>\n",
              "    <path d=\"M18.56 5.44l.94 2.06.94-2.06 2.06-.94-2.06-.94-.94-2.06-.94 2.06-2.06.94zm-11 1L8.5 8.5l.94-2.06 2.06-.94-2.06-.94L8.5 2.5l-.94 2.06-2.06.94zm10 10l.94 2.06.94-2.06 2.06-.94-2.06-.94-.94-2.06-.94 2.06-2.06.94z\"/><path d=\"M17.41 7.96l-1.37-1.37c-.4-.4-.92-.59-1.43-.59-.52 0-1.04.2-1.43.59L10.3 9.45l-7.72 7.72c-.78.78-.78 2.05 0 2.83L4 21.41c.39.39.9.59 1.41.59.51 0 1.02-.2 1.41-.59l7.78-7.78 2.81-2.81c.8-.78.8-2.07 0-2.86zM5.41 20L4 18.59l7.72-7.72 1.47 1.35L5.41 20z\"/>\n",
              "  </svg>\n",
              "      </button>\n",
              "      \n",
              "  <style>\n",
              "    .colab-df-container {\n",
              "      display:flex;\n",
              "      flex-wrap:wrap;\n",
              "      gap: 12px;\n",
              "    }\n",
              "\n",
              "    .colab-df-convert {\n",
              "      background-color: #E8F0FE;\n",
              "      border: none;\n",
              "      border-radius: 50%;\n",
              "      cursor: pointer;\n",
              "      display: none;\n",
              "      fill: #1967D2;\n",
              "      height: 32px;\n",
              "      padding: 0 0 0 0;\n",
              "      width: 32px;\n",
              "    }\n",
              "\n",
              "    .colab-df-convert:hover {\n",
              "      background-color: #E2EBFA;\n",
              "      box-shadow: 0px 1px 2px rgba(60, 64, 67, 0.3), 0px 1px 3px 1px rgba(60, 64, 67, 0.15);\n",
              "      fill: #174EA6;\n",
              "    }\n",
              "\n",
              "    [theme=dark] .colab-df-convert {\n",
              "      background-color: #3B4455;\n",
              "      fill: #D2E3FC;\n",
              "    }\n",
              "\n",
              "    [theme=dark] .colab-df-convert:hover {\n",
              "      background-color: #434B5C;\n",
              "      box-shadow: 0px 1px 3px 1px rgba(0, 0, 0, 0.15);\n",
              "      filter: drop-shadow(0px 1px 2px rgba(0, 0, 0, 0.3));\n",
              "      fill: #FFFFFF;\n",
              "    }\n",
              "  </style>\n",
              "\n",
              "      <script>\n",
              "        const buttonEl =\n",
              "          document.querySelector('#df-a9cdd052-721e-4d10-a4d7-1e568688b5cd button.colab-df-convert');\n",
              "        buttonEl.style.display =\n",
              "          google.colab.kernel.accessAllowed ? 'block' : 'none';\n",
              "\n",
              "        async function convertToInteractive(key) {\n",
              "          const element = document.querySelector('#df-a9cdd052-721e-4d10-a4d7-1e568688b5cd');\n",
              "          const dataTable =\n",
              "            await google.colab.kernel.invokeFunction('convertToInteractive',\n",
              "                                                     [key], {});\n",
              "          if (!dataTable) return;\n",
              "\n",
              "          const docLinkHtml = 'Like what you see? Visit the ' +\n",
              "            '<a target=\"_blank\" href=https://colab.research.google.com/notebooks/data_table.ipynb>data table notebook</a>'\n",
              "            + ' to learn more about interactive tables.';\n",
              "          element.innerHTML = '';\n",
              "          dataTable['output_type'] = 'display_data';\n",
              "          await google.colab.output.renderOutput(dataTable, element);\n",
              "          const docLink = document.createElement('div');\n",
              "          docLink.innerHTML = docLinkHtml;\n",
              "          element.appendChild(docLink);\n",
              "        }\n",
              "      </script>\n",
              "    </div>\n",
              "  </div>\n",
              "  "
            ]
          },
          "metadata": {},
          "execution_count": 6
        }
      ],
      "source": [
        "df.head()"
      ]
    },
    {
      "cell_type": "code",
      "execution_count": 7,
      "metadata": {
        "colab": {
          "base_uri": "https://localhost:8080/"
        },
        "id": "IwoLgEdPu7Jp",
        "outputId": "3dd13975-deef-40ea-e6eb-ffb1076d2ebe"
      },
      "outputs": [
        {
          "output_type": "execute_result",
          "data": {
            "text/plain": [
              "100"
            ]
          },
          "metadata": {},
          "execution_count": 7
        }
      ],
      "source": [
        "len(data)"
      ]
    },
    {
      "cell_type": "code",
      "execution_count": 8,
      "metadata": {
        "colab": {
          "base_uri": "https://localhost:8080/",
          "height": 332
        },
        "id": "5lEoxBRY7ncw",
        "outputId": "c25e1d49-6e85-432a-f791-8d3b1a8dcdf3"
      },
      "outputs": [
        {
          "output_type": "execute_result",
          "data": {
            "text/plain": [
              "<matplotlib.axes._subplots.AxesSubplot at 0x7f3c000b2490>"
            ]
          },
          "metadata": {},
          "execution_count": 8
        },
        {
          "output_type": "display_data",
          "data": {
            "text/plain": [
              "<Figure size 432x288 with 1 Axes>"
            ],
            "image/png": "[encoded data removed]"
          },
          "metadata": {
            "needs_background": "light"
          }
        }
      ],
      "source": [
        "df['DiseaseType'].value_counts().plot.bar()"
      ]
    },
    {
      "cell_type": "code",
      "execution_count": 6,
      "metadata": {
        "id": "COohBNZ979fZ"
      },
      "outputs": [],
      "source": [
        "#image size\n",
        "image_shape = (224,224,3)"
      ]
    },
    {
      "cell_type": "code",
      "execution_count": 7,
      "metadata": {
        "id": "jm4lQbsm8EL1"
      },
      "outputs": [],
      "source": [
        "from sklearn.model_selection import train_test_split\n",
        "train_df, test_df = train_test_split(df, test_size=0.15, random_state=42)\n",
        "#split train in train-valid\n",
        "trainVal_df, test_Valdf = train_test_split(train_df, test_size=0.15,random_state=42)\n",
        "\n"
      ]
    },
    {
      "cell_type": "code",
      "execution_count": 8,
      "metadata": {
        "id": "Z4d7BOZ38iaE"
      },
      "outputs": [],
      "source": [
        "from keras_preprocessing.image import ImageDataGenerator\n",
        "\n",
        "datagen= ImageDataGenerator(\n",
        "    horizontal_flip=True,\n",
        "    # vertical_flip=True,\n",
        "    # rotation_range=90,\n",
        "    # width_shift_range=0.1,\n",
        "    # height_shift_range=0.1,\n",
        "    # zoom_range=.1,\n",
        "    rescale=1/255,\n",
        "    fill_mode='nearest',\n",
        "    # shear_range=0.1,\n",
        "    # brightness_range=[0.8, 1.2]\n",
        "    )"
      ]
    },
    {
      "cell_type": "code",
      "execution_count": 9,
      "metadata": {
        "colab": {
          "base_uri": "https://localhost:8080/"
        },
        "id": "rdlW6M3b8v-n",
        "outputId": "3f55e9c4-ded1-4f9b-a33f-a24d1c9bb16b"
      },
      "outputs": [
        {
          "output_type": "execute_result",
          "data": {
            "text/plain": [
              "(85, 15)"
            ]
          },
          "metadata": {},
          "execution_count": 9
        }
      ],
      "source": [
        "len(train_df),len(test_df)"
      ]
    },
    {
      "cell_type": "code",
      "execution_count": 10,
      "metadata": {
        "colab": {
          "base_uri": "https://localhost:8080/",
          "height": 424
        },
        "id": "EDseRl0481dM",
        "outputId": "79e4f273-5797-40f9-fc15-52d022df1008"
      },
      "outputs": [
        {
          "output_type": "execute_result",
          "data": {
            "text/plain": [
              "                        File  DiseaseID DiseaseType\n",
              "4    background/BG_pz36.jpeg          0  background\n",
              "76      stenosis/S_pz27.jpeg          1    stenosis\n",
              "77     stenosis/S_pz26a.jpeg          1    stenosis\n",
              "12   background/BG_pz01.jpeg          0  background\n",
              "31  background/BG_pz31b.jpeg          0  background\n",
              "..                       ...        ...         ...\n",
              "60      stenosis/S_pz15.jpeg          1    stenosis\n",
              "71      stenosis/S_pz05.jpeg          1    stenosis\n",
              "14   background/BG_pz33.jpeg          0  background\n",
              "92     stenosis/S_pz26b.jpeg          1    stenosis\n",
              "51      stenosis/S_pz31.jpeg          1    stenosis\n",
              "\n",
              "[85 rows x 3 columns]"
            ],
            "text/html": [
              "\n",
              "  <div id=\"df-cda6d88a-24e9-4e95-9705-b1a9a7d3c183\">\n",
              "    <div class=\"colab-df-container\">\n",
              "      <div>\n",
              "<style scoped>\n",
              "    .dataframe tbody tr th:only-of-type {\n",
              "        vertical-align: middle;\n",
              "    }\n",
              "\n",
              "    .dataframe tbody tr th {\n",
              "        vertical-align: top;\n",
              "    }\n",
              "\n",
              "    .dataframe thead th {\n",
              "        text-align: right;\n",
              "    }\n",
              "</style>\n",
              "<table border=\"1\" class=\"dataframe\">\n",
              "  <thead>\n",
              "    <tr style=\"text-align: right;\">\n",
              "      <th></th>\n",
              "      <th>File</th>\n",
              "      <th>DiseaseID</th>\n",
              "      <th>DiseaseType</th>\n",
              "    </tr>\n",
              "  </thead>\n",
              "  <tbody>\n",
              "    <tr>\n",
              "      <th>4</th>\n",
              "      <td>background/BG_pz36.jpeg</td>\n",
              "      <td>0</td>\n",
              "      <td>background</td>\n",
              "    </tr>\n",
              "    <tr>\n",
              "      <th>76</th>\n",
              "      <td>stenosis/S_pz27.jpeg</td>\n",
              "      <td>1</td>\n",
              "      <td>stenosis</td>\n",
              "    </tr>\n",
              "    <tr>\n",
              "      <th>77</th>\n",
              "      <td>stenosis/S_pz26a.jpeg</td>\n",
              "      <td>1</td>\n",
              "      <td>stenosis</td>\n",
              "    </tr>\n",
              "    <tr>\n",
              "      <th>12</th>\n",
              "      <td>background/BG_pz01.jpeg</td>\n",
              "      <td>0</td>\n",
              "      <td>background</td>\n",
              "    </tr>\n",
              "    <tr>\n",
              "      <th>31</th>\n",
              "      <td>background/BG_pz31b.jpeg</td>\n",
              "      <td>0</td>\n",
              "      <td>background</td>\n",
              "    </tr>\n",
              "    <tr>\n",
              "      <th>...</th>\n",
              "      <td>...</td>\n",
              "      <td>...</td>\n",
              "      <td>...</td>\n",
              "    </tr>\n",
              "    <tr>\n",
              "      <th>60</th>\n",
              "      <td>stenosis/S_pz15.jpeg</td>\n",
              "      <td>1</td>\n",
              "      <td>stenosis</td>\n",
              "    </tr>\n",
              "    <tr>\n",
              "      <th>71</th>\n",
              "      <td>stenosis/S_pz05.jpeg</td>\n",
              "      <td>1</td>\n",
              "      <td>stenosis</td>\n",
              "    </tr>\n",
              "    <tr>\n",
              "      <th>14</th>\n",
              "      <td>background/BG_pz33.jpeg</td>\n",
              "      <td>0</td>\n",
              "      <td>background</td>\n",
              "    </tr>\n",
              "    <tr>\n",
              "      <th>92</th>\n",
              "      <td>stenosis/S_pz26b.jpeg</td>\n",
              "      <td>1</td>\n",
              "      <td>stenosis</td>\n",
              "    </tr>\n",
              "    <tr>\n",
              "      <th>51</th>\n",
              "      <td>stenosis/S_pz31.jpeg</td>\n",
              "      <td>1</td>\n",
              "      <td>stenosis</td>\n",
              "    </tr>\n",
              "  </tbody>\n",
              "</table>\n",
              "<p>85 rows × 3 columns</p>\n",
              "</div>\n",
              "      <button class=\"colab-df-convert\" onclick=\"convertToInteractive('df-cda6d88a-24e9-4e95-9705-b1a9a7d3c183')\"\n",
              "              title=\"Convert this dataframe to an interactive table.\"\n",
              "              style=\"display:none;\">\n",
              "        \n",
              "  <svg xmlns=\"http://www.w3.org/2000/svg\" height=\"24px\"viewBox=\"0 0 24 24\"\n",
              "       width=\"24px\">\n",
              "    <path d=\"M0 0h24v24H0V0z\" fill=\"none\"/>\n",
              "    <path d=\"M18.56 5.44l.94 2.06.94-2.06 2.06-.94-2.06-.94-.94-2.06-.94 2.06-2.06.94zm-11 1L8.5 8.5l.94-2.06 2.06-.94-2.06-.94L8.5 2.5l-.94 2.06-2.06.94zm10 10l.94 2.06.94-2.06 2.06-.94-2.06-.94-.94-2.06-.94 2.06-2.06.94z\"/><path d=\"M17.41 7.96l-1.37-1.37c-.4-.4-.92-.59-1.43-.59-.52 0-1.04.2-1.43.59L10.3 9.45l-7.72 7.72c-.78.78-.78 2.05 0 2.83L4 21.41c.39.39.9.59 1.41.59.51 0 1.02-.2 1.41-.59l7.78-7.78 2.81-2.81c.8-.78.8-2.07 0-2.86zM5.41 20L4 18.59l7.72-7.72 1.47 1.35L5.41 20z\"/>\n",
              "  </svg>\n",
              "      </button>\n",
              "      \n",
              "  <style>\n",
              "    .colab-df-container {\n",
              "      display:flex;\n",
              "      flex-wrap:wrap;\n",
              "      gap: 12px;\n",
              "    }\n",
              "\n",
              "    .colab-df-convert {\n",
              "      background-color: #E8F0FE;\n",
              "      border: none;\n",
              "      border-radius: 50%;\n",
              "      cursor: pointer;\n",
              "      display: none;\n",
              "      fill: #1967D2;\n",
              "      height: 32px;\n",
              "      padding: 0 0 0 0;\n",
              "      width: 32px;\n",
              "    }\n",
              "\n",
              "    .colab-df-convert:hover {\n",
              "      background-color: #E2EBFA;\n",
              "      box-shadow: 0px 1px 2px rgba(60, 64, 67, 0.3), 0px 1px 3px 1px rgba(60, 64, 67, 0.15);\n",
              "      fill: #174EA6;\n",
              "    }\n",
              "\n",
              "    [theme=dark] .colab-df-convert {\n",
              "      background-color: #3B4455;\n",
              "      fill: #D2E3FC;\n",
              "    }\n",
              "\n",
              "    [theme=dark] .colab-df-convert:hover {\n",
              "      background-color: #434B5C;\n",
              "      box-shadow: 0px 1px 3px 1px rgba(0, 0, 0, 0.15);\n",
              "      filter: drop-shadow(0px 1px 2px rgba(0, 0, 0, 0.3));\n",
              "      fill: #FFFFFF;\n",
              "    }\n",
              "  </style>\n",
              "\n",
              "      <script>\n",
              "        const buttonEl =\n",
              "          document.querySelector('#df-cda6d88a-24e9-4e95-9705-b1a9a7d3c183 button.colab-df-convert');\n",
              "        buttonEl.style.display =\n",
              "          google.colab.kernel.accessAllowed ? 'block' : 'none';\n",
              "\n",
              "        async function convertToInteractive(key) {\n",
              "          const element = document.querySelector('#df-cda6d88a-24e9-4e95-9705-b1a9a7d3c183');\n",
              "          const dataTable =\n",
              "            await google.colab.kernel.invokeFunction('convertToInteractive',\n",
              "                                                     [key], {});\n",
              "          if (!dataTable) return;\n",
              "\n",
              "          const docLinkHtml = 'Like what you see? Visit the ' +\n",
              "            '<a target=\"_blank\" href=https://colab.research.google.com/notebooks/data_table.ipynb>data table notebook</a>'\n",
              "            + ' to learn more about interactive tables.';\n",
              "          element.innerHTML = '';\n",
              "          dataTable['output_type'] = 'display_data';\n",
              "          await google.colab.output.renderOutput(dataTable, element);\n",
              "          const docLink = document.createElement('div');\n",
              "          docLink.innerHTML = docLinkHtml;\n",
              "          element.appendChild(docLink);\n",
              "        }\n",
              "      </script>\n",
              "    </div>\n",
              "  </div>\n",
              "  "
            ]
          },
          "metadata": {},
          "execution_count": 10
        }
      ],
      "source": [
        "train_df"
      ]
    },
    {
      "cell_type": "code",
      "execution_count": 11,
      "metadata": {
        "colab": {
          "base_uri": "https://localhost:8080/"
        },
        "id": "8Hp4CeqR9AwE",
        "outputId": "27bef387-47cd-4c5f-eb60-378fd707cf14"
      },
      "outputs": [
        {
          "output_type": "stream",
          "name": "stdout",
          "text": [
            "Found 85 validated image filenames belonging to 2 classes.\n"
          ]
        }
      ],
      "source": [
        "train_generator = datagen.flow_from_dataframe(dataframe=train_df,directory='/content/Coronaro_dataset',\n",
        "    x_col=\"File\",\n",
        "    y_col=\"DiseaseType\",\n",
        "    target_size=image_shape[0:2],\n",
        "    batch_size=32,\n",
        "    class_mode='categorical',\n",
        "    shuffle=True)"
      ]
    },
    {
      "cell_type": "code",
      "execution_count": 12,
      "metadata": {
        "colab": {
          "base_uri": "https://localhost:8080/"
        },
        "id": "WjN8POjh-OCw",
        "outputId": "87fbfe4a-4372-4576-dc3f-15197874388a"
      },
      "outputs": [
        {
          "output_type": "stream",
          "name": "stdout",
          "text": [
            "Found 72 validated image filenames belonging to 2 classes.\n"
          ]
        }
      ],
      "source": [
        "val_generator = datagen.flow_from_dataframe(dataframe=trainVal_df,directory='/content/Coronaro_dataset',\n",
        "    x_col=\"File\",\n",
        "    y_col=\"DiseaseType\",\n",
        "    target_size=image_shape[0:2],\n",
        "    batch_size=32,\n",
        "    class_mode='categorical'\n",
        "    )"
      ]
    },
    {
      "cell_type": "code",
      "execution_count": 13,
      "metadata": {
        "colab": {
          "base_uri": "https://localhost:8080/"
        },
        "id": "M8NPLwKQ-qjL",
        "outputId": "13f4969b-1066-4de8-b6f0-7d032ec853f8"
      },
      "outputs": [
        {
          "output_type": "stream",
          "name": "stdout",
          "text": [
            "Found 15 validated image filenames belonging to 2 classes.\n"
          ]
        }
      ],
      "source": [
        "test_generator = datagen.flow_from_dataframe(dataframe=test_df,directory='/content/Coronaro_dataset',\n",
        "    x_col=\"File\",\n",
        "    y_col=\"DiseaseType\",\n",
        "    target_size=image_shape[0:2],\n",
        "    batch_size=32,\n",
        "    class_mode='categorical',\n",
        "    shuffle=False\n",
        "    )"
      ]
    },
    {
      "cell_type": "code",
      "execution_count": 14,
      "metadata": {
        "colab": {
          "base_uri": "https://localhost:8080/"
        },
        "id": "mRfoRCZt_FFO",
        "outputId": "00ec91b2-aa96-4e5b-9a28-0432053c3b07"
      },
      "outputs": [
        {
          "output_type": "stream",
          "name": "stdout",
          "text": [
            "Downloading data from https://storage.googleapis.com/tensorflow/keras-applications/vgg16/vgg16_weights_tf_dim_ordering_tf_kernels_notop.h5\n",
            "58889256/58889256 [==============================] - 0s 0us/step\n",
            "<keras.engine.input_layer.InputLayer object at 0x7fad60b298e0> False\n",
            "<keras.layers.convolutional.conv2d.Conv2D object at 0x7fad60ae94c0> False\n",
            "<keras.layers.convolutional.conv2d.Conv2D object at 0x7fad60ae9940> False\n",
            "<keras.layers.pooling.max_pooling2d.MaxPooling2D object at 0x7fad60ae9760> False\n",
            "<keras.layers.convolutional.conv2d.Conv2D object at 0x7fad60a4f1f0> False\n",
            "<keras.layers.convolutional.conv2d.Conv2D object at 0x7fad5cd1b9a0> False\n",
            "<keras.layers.pooling.max_pooling2d.MaxPooling2D object at 0x7fad60ae9c10> False\n",
            "<keras.layers.convolutional.conv2d.Conv2D object at 0x7fad5cd21250> False\n",
            "<keras.layers.convolutional.conv2d.Conv2D object at 0x7fad5cd21100> False\n",
            "<keras.layers.convolutional.conv2d.Conv2D object at 0x7fad5cd28dc0> False\n",
            "<keras.layers.pooling.max_pooling2d.MaxPooling2D object at 0x7fad60a4fbe0> False\n",
            "<keras.layers.convolutional.conv2d.Conv2D object at 0x7fad5cd2f790> False\n",
            "<keras.layers.convolutional.conv2d.Conv2D object at 0x7fad5cd35040> False\n",
            "<keras.layers.convolutional.conv2d.Conv2D object at 0x7fad60a4fb20> False\n",
            "<keras.layers.pooling.max_pooling2d.MaxPooling2D object at 0x7fad5cd28730> False\n",
            "<keras.layers.convolutional.conv2d.Conv2D object at 0x7fad5cd42310> True\n",
            "<keras.layers.convolutional.conv2d.Conv2D object at 0x7fad5cd42a90> True\n",
            "<keras.layers.convolutional.conv2d.Conv2D object at 0x7fad5cd42a60> True\n",
            "<keras.layers.pooling.max_pooling2d.MaxPooling2D object at 0x7fad5cd42520> True\n"
          ]
        }
      ],
      "source": [
        "from keras.applications.vgg16 import VGG16\n",
        "from keras import models\n",
        "from keras import layers, Sequential,Model\n",
        "from keras import optimizers\n",
        "\n",
        "vgg_conv = VGG16(weights='imagenet', include_top=False, input_shape=(224, 224, 3))\n",
        "\n",
        "#Freeze the layers \n",
        "for layer in vgg_conv.layers[:-4]:\n",
        "    layer.trainable = False\n",
        "\n",
        "# Check the trainable status of the individual layers\n",
        "for layer in vgg_conv.layers:\n",
        "    print(layer, layer.trainable)"
      ]
    },
    {
      "cell_type": "code",
      "execution_count": 15,
      "metadata": {
        "id": "F8zkseng_MYi"
      },
      "outputs": [],
      "source": [
        "model = Sequential() #A Sequential model is appropriate for a plain stack of layers where each layer has exactly one input tensor and one output tensor.\n",
        "model.add(vgg_conv)\n",
        "          \n",
        "# Add new layers\n",
        "model.add(layers.Flatten())\n",
        "model.add(layers.Dense(1024, activation='relu'))\n",
        "model.add(layers.Dropout(0.5))\n",
        "model.add(layers.Dense(512, activation='relu'))\n",
        "model.add(layers.Dropout(0.5))\n",
        "model.add(layers.Dense(2, activation='softmax'))"
      ]
    },
    {
      "cell_type": "code",
      "execution_count": 16,
      "metadata": {
        "colab": {
          "base_uri": "https://localhost:8080/"
        },
        "id": "lsJMn9Ys_Y5p",
        "outputId": "e3a88486-cc7e-4637-f3a7-439261e69265"
      },
      "outputs": [
        {
          "output_type": "stream",
          "name": "stdout",
          "text": [
            "Model: \"sequential\"\n",
            "_________________________________________________________________\n",
            " Layer (type)                Output Shape              Param #   \n",
            "=================================================================\n",
            " vgg16 (Functional)          (None, 7, 7, 512)         14714688  \n",
            "                                                                 \n",
            " flatten (Flatten)           (None, 25088)             0         \n",
            "                                                                 \n",
            " dense (Dense)               (None, 1024)              25691136  \n",
            "                                                                 \n",
            " dropout (Dropout)           (None, 1024)              0         \n",
            "                                                                 \n",
            " dense_1 (Dense)             (None, 512)               524800    \n",
            "                                                                 \n",
            " dropout_1 (Dropout)         (None, 512)               0         \n",
            "                                                                 \n",
            " dense_2 (Dense)             (None, 2)                 1026      \n",
            "                                                                 \n",
            "=================================================================\n",
            "Total params: 40,931,650\n",
            "Trainable params: 33,296,386\n",
            "Non-trainable params: 7,635,264\n",
            "_________________________________________________________________\n"
          ]
        }
      ],
      "source": [
        "model.summary()"
      ]
    },
    {
      "cell_type": "code",
      "execution_count": 17,
      "metadata": {
        "id": "K97wWvgP_eCF"
      },
      "outputs": [],
      "source": [
        "model.compile(optimizer='adam', loss='categorical_crossentropy', metrics=['accuracy'])"
      ]
    },
    {
      "cell_type": "code",
      "execution_count": 18,
      "metadata": {
        "colab": {
          "base_uri": "https://localhost:8080/"
        },
        "id": "TbFTghNA_kQ9",
        "outputId": "9b91f620-64a6-42d8-bb8c-70098f77b4e1"
      },
      "outputs": [
        {
          "output_type": "stream",
          "name": "stdout",
          "text": [
            "Epoch 1/20\n",
            "3/3 [==============================] - 58s 19s/step - loss: 2.1222 - accuracy: 0.5647 - val_loss: 0.6326 - val_accuracy: 0.6000\n",
            "Epoch 2/20\n",
            "3/3 [==============================] - 60s 22s/step - loss: 0.7172 - accuracy: 0.4588 - val_loss: 4.3605 - val_accuracy: 0.4000\n",
            "Epoch 3/20\n",
            "3/3 [==============================] - 56s 19s/step - loss: 1.4024 - accuracy: 0.6471 - val_loss: 0.6448 - val_accuracy: 0.6000\n",
            "Epoch 4/20\n",
            "3/3 [==============================] - 55s 22s/step - loss: 1.7184 - accuracy: 0.4941 - val_loss: 0.7188 - val_accuracy: 0.4000\n",
            "Epoch 5/20\n",
            "3/3 [==============================] - 55s 18s/step - loss: 0.7045 - accuracy: 0.5176 - val_loss: 0.6541 - val_accuracy: 0.6000\n",
            "Epoch 6/20\n",
            "3/3 [==============================] - 63s 23s/step - loss: 0.6727 - accuracy: 0.5412 - val_loss: 0.6384 - val_accuracy: 0.6667\n",
            "Epoch 7/20\n",
            "3/3 [==============================] - 55s 18s/step - loss: 0.6830 - accuracy: 0.5412 - val_loss: 0.6934 - val_accuracy: 0.4000\n",
            "Epoch 8/20\n",
            "3/3 [==============================] - 55s 18s/step - loss: 0.6269 - accuracy: 0.6000 - val_loss: 0.4495 - val_accuracy: 0.8667\n",
            "Epoch 9/20\n",
            "3/3 [==============================] - 55s 18s/step - loss: 0.3759 - accuracy: 0.8353 - val_loss: 2.4147 - val_accuracy: 0.4667\n",
            "Epoch 10/20\n",
            "3/3 [==============================] - 59s 18s/step - loss: 1.6911 - accuracy: 0.6235 - val_loss: 0.4964 - val_accuracy: 0.8667\n",
            "Epoch 11/20\n",
            "3/3 [==============================] - 56s 19s/step - loss: 0.7846 - accuracy: 0.4941 - val_loss: 0.5293 - val_accuracy: 0.4000\n",
            "Epoch 12/20\n",
            "3/3 [==============================] - 56s 18s/step - loss: 0.5126 - accuracy: 0.6941 - val_loss: 0.5040 - val_accuracy: 0.8667\n",
            "Epoch 13/20\n",
            "3/3 [==============================] - 60s 21s/step - loss: 0.4587 - accuracy: 0.8706 - val_loss: 0.5070 - val_accuracy: 0.8000\n",
            "Epoch 14/20\n",
            "3/3 [==============================] - 57s 18s/step - loss: 0.4028 - accuracy: 0.8824 - val_loss: 0.6021 - val_accuracy: 0.8000\n",
            "Epoch 15/20\n",
            "3/3 [==============================] - 57s 22s/step - loss: 0.3709 - accuracy: 0.9412 - val_loss: 0.5213 - val_accuracy: 0.8667\n",
            "Epoch 16/20\n",
            "3/3 [==============================] - 61s 18s/step - loss: 0.3536 - accuracy: 0.9294 - val_loss: 0.5059 - val_accuracy: 0.8667\n",
            "Epoch 17/20\n",
            "3/3 [==============================] - 55s 21s/step - loss: 0.5027 - accuracy: 0.9529 - val_loss: 0.4574 - val_accuracy: 0.9333\n",
            "Epoch 18/20\n",
            "3/3 [==============================] - 57s 19s/step - loss: 0.3566 - accuracy: 0.9294 - val_loss: 0.4730 - val_accuracy: 0.8667\n",
            "Epoch 19/20\n",
            "3/3 [==============================] - 59s 21s/step - loss: 0.3619 - accuracy: 0.8941 - val_loss: 0.4460 - val_accuracy: 0.8667\n",
            "Epoch 20/20\n",
            "3/3 [==============================] - 56s 22s/step - loss: 0.3206 - accuracy: 0.9529 - val_loss: 0.4194 - val_accuracy: 0.9333\n"
          ]
        }
      ],
      "source": [
        "results = model.fit(train_generator,epochs=20,\n",
        "                              validation_data=test_generator,verbose=1)"
      ]
    },
    {
      "cell_type": "code",
      "execution_count": 20,
      "metadata": {
        "colab": {
          "base_uri": "https://localhost:8080/",
          "height": 295
        },
        "id": "pp60EPZd_qyN",
        "outputId": "93bf584c-4d3c-43ca-d8ee-8ad2286d7469"
      },
      "outputs": [
        {
          "output_type": "display_data",
          "data": {
            "text/plain": [
              "<Figure size 432x288 with 1 Axes>"
            ],
            "image/png": "[encoded data removed]"
          },
          "metadata": {
            "needs_background": "light"
          }
        }
      ],
      "source": [
        "import matplotlib.pyplot as plt\n",
        "plt.plot(results.history['accuracy'])\n",
        "plt.plot(results.history['val_accuracy'])\n",
        "plt.title('corona model accuracy ')\n",
        "plt.ylabel('accuracy')\n",
        "plt.xlabel('epoch')\n",
        "plt.legend(['train', 'test'], loc='upper left')\n",
        "plt.show()"
      ]
    },
    {
      "cell_type": "code",
      "execution_count": 21,
      "metadata": {
        "colab": {
          "base_uri": "https://localhost:8080/",
          "height": 295
        },
        "id": "_2u3lwxr_0Ns",
        "outputId": "42996902-6908-41b5-e8f3-8aece35b8772"
      },
      "outputs": [
        {
          "output_type": "display_data",
          "data": {
            "text/plain": [
              "<Figure size 432x288 with 1 Axes>"
            ],
            "image/png": "[encoded data removed]"
          },
          "metadata": {
            "needs_background": "light"
          }
        }
      ],
      "source": [
        "import matplotlib.pyplot as plt\n",
        "plt.plot(results.history['loss'])\n",
        "plt.plot(results.history['val_loss'])\n",
        "plt.title('Corona model loss ')\n",
        "plt.ylabel('loss')\n",
        "plt.xlabel('epoch')\n",
        "plt.legend(['train', 'test'], loc='upper left')\n",
        "plt.show()"
      ]
    },
    {
      "cell_type": "code",
      "execution_count": 22,
      "metadata": {
        "colab": {
          "base_uri": "https://localhost:8080/"
        },
        "id": "HsXJ5nGN_5xJ",
        "outputId": "ad8618ac-764f-486f-ead5-c8cb429cca42"
      },
      "outputs": [
        {
          "output_type": "stream",
          "name": "stdout",
          "text": [
            "1/1 [==============================] - 8s 8s/step - loss: 0.4246 - accuracy: 0.8667\n"
          ]
        },
        {
          "output_type": "execute_result",
          "data": {
            "text/plain": [
              "[0.42462998628616333, 0.8666666746139526]"
            ]
          },
          "metadata": {},
          "execution_count": 22
        }
      ],
      "source": [
        "model.evaluate(test_generator)"
      ]
    },
    {
      "cell_type": "code",
      "execution_count": 23,
      "metadata": {
        "colab": {
          "base_uri": "https://localhost:8080/"
        },
        "id": "F3SXUjn6_99O",
        "outputId": "0a7588eb-3b59-47d7-d6ad-e5cf53cb5965"
      },
      "outputs": [
        {
          "output_type": "stream",
          "name": "stdout",
          "text": [
            "3/3 [==============================] - 33s 9s/step - loss: 0.3019 - accuracy: 0.9444\n"
          ]
        },
        {
          "output_type": "execute_result",
          "data": {
            "text/plain": [
              "[0.30188024044036865, 0.9444444179534912]"
            ]
          },
          "metadata": {},
          "execution_count": 23
        }
      ],
      "source": [
        "model.evaluate(val_generator)"
      ]
    },
    {
      "cell_type": "code",
      "execution_count": 24,
      "metadata": {
        "id": "tSjBf29BACe6"
      },
      "outputs": [],
      "source": [
        "!mkdir results"
      ]
    },
    {
      "cell_type": "code",
      "execution_count": 25,
      "metadata": {
        "id": "GCxySA0pAHRp"
      },
      "outputs": [],
      "source": [
        "# to save model and weights\n",
        "model_json = model.to_json()\n",
        "with open(\"results/model.json\", \"w\") as json_file:\n",
        "    json_file.write(model_json)\n",
        "model.save_weights('results/model_weights.h5')"
      ]
    },
    {
      "cell_type": "code",
      "execution_count": 26,
      "metadata": {
        "colab": {
          "base_uri": "https://localhost:8080/"
        },
        "id": "McXhmvwcANOd",
        "outputId": "c89b35bf-71cf-4f49-c56e-1d7f67ab5e76"
      },
      "outputs": [
        {
          "output_type": "stream",
          "name": "stdout",
          "text": [
            "1/1 [==============================] - 7s 7s/step\n"
          ]
        }
      ],
      "source": [
        "y_score=model.predict(test_generator)"
      ]
    },
    {
      "cell_type": "code",
      "execution_count": 27,
      "metadata": {
        "colab": {
          "base_uri": "https://localhost:8080/"
        },
        "id": "OASG5rOSASSx",
        "outputId": "68a3f931-6f6f-44ba-c3e3-4f1bd86b733b"
      },
      "outputs": [
        {
          "output_type": "execute_result",
          "data": {
            "text/plain": [
              "[0, 1]"
            ]
          },
          "metadata": {},
          "execution_count": 27
        }
      ],
      "source": [
        "class_names=list(test_generator.class_indices.values())\n",
        "class_names"
      ]
    },
    {
      "cell_type": "code",
      "execution_count": 28,
      "metadata": {
        "colab": {
          "base_uri": "https://localhost:8080/"
        },
        "id": "QMpbEALiAZWV",
        "outputId": "3b0e7a49-f278-47e8-a227-b3be28f35c5a"
      },
      "outputs": [
        {
          "output_type": "stream",
          "name": "stdout",
          "text": [
            "(15, 2)\n"
          ]
        }
      ],
      "source": [
        "print(y_score.shape)\n",
        "y_pred=np.argmax(y_score,axis=1)#return col which has max value\n",
        "y_test=test_generator.classes#axis 0=rows and axis 1=col"
      ]
    },
    {
      "cell_type": "code",
      "execution_count": 29,
      "metadata": {
        "colab": {
          "base_uri": "https://localhost:8080/"
        },
        "id": "_jAfWnEVAdyu",
        "outputId": "d0e5bda9-7cc7-4429-9aa2-b37e5b29eba0"
      },
      "outputs": [
        {
          "output_type": "execute_result",
          "data": {
            "text/plain": [
              "(array([0, 1]), array([10,  5]))"
            ]
          },
          "metadata": {},
          "execution_count": 29
        }
      ],
      "source": [
        "np.unique(y_pred,return_counts=True)"
      ]
    },
    {
      "cell_type": "code",
      "execution_count": 30,
      "metadata": {
        "colab": {
          "base_uri": "https://localhost:8080/"
        },
        "id": "XhmepZ9rAgxU",
        "outputId": "f000918a-7330-4822-a5ea-4891b3861d20"
      },
      "outputs": [
        {
          "output_type": "execute_result",
          "data": {
            "text/plain": [
              "[1, 1, 1, 0, 0, 0, 0, 1, 0, 0, 0, 0, 1, 0, 1]"
            ]
          },
          "metadata": {},
          "execution_count": 30
        }
      ],
      "source": [
        "test_generator.classes"
      ]
    },
    {
      "cell_type": "code",
      "execution_count": 31,
      "metadata": {
        "colab": {
          "base_uri": "https://localhost:8080/"
        },
        "id": "3Ph0c-b7AkhP",
        "outputId": "e3e05a79-b861-4c73-d68c-1d6caa4f3f5a"
      },
      "outputs": [
        {
          "output_type": "stream",
          "name": "stdout",
          "text": [
            "0.9333333333333333\n",
            "0.9282296650717703\n"
          ]
        }
      ],
      "source": [
        "from sklearn.metrics import classification_report,accuracy_score,f1_score\n",
        "print(accuracy_score(y_test,y_pred))\n",
        "print(f1_score(y_test,y_pred,average='macro'))"
      ]
    },
    {
      "cell_type": "code",
      "execution_count": 32,
      "metadata": {
        "colab": {
          "base_uri": "https://localhost:8080/"
        },
        "id": "oBB08NxSApns",
        "outputId": "f7c57246-adc4-4dd6-c49d-cf1c59861d19"
      },
      "outputs": [
        {
          "output_type": "stream",
          "name": "stdout",
          "text": [
            "              precision    recall  f1-score   support\n",
            "\n",
            "           0       0.90      1.00      0.95         9\n",
            "           1       1.00      0.83      0.91         6\n",
            "\n",
            "    accuracy                           0.93        15\n",
            "   macro avg       0.95      0.92      0.93        15\n",
            "weighted avg       0.94      0.93      0.93        15\n",
            "\n"
          ]
        }
      ],
      "source": [
        "print(classification_report(y_test, y_pred))"
      ]
    },
    {
      "cell_type": "code",
      "execution_count": 33,
      "metadata": {
        "colab": {
          "base_uri": "https://localhost:8080/"
        },
        "id": "axAU5uAEAs_D",
        "outputId": "aa719fd6-6bb0-48a5-de99-a9cb54506317"
      },
      "outputs": [
        {
          "output_type": "stream",
          "name": "stdout",
          "text": [
            "1/1 [==============================] - 1s 664ms/step\n",
            "1/1 [==============================] - 1s 521ms/step\n"
          ]
        }
      ],
      "source": [
        "from PIL import Image\n",
        "import numpy as np\n",
        "from skimage import transform\n",
        "def load(File):\n",
        "   np_image = Image.open(File)\n",
        "   np_image = np.array(np_image).astype('float32')/255\n",
        "   np_image = transform.resize(np_image, (224, 224))\n",
        "   np_image = np.expand_dims(np_image, axis=0)\n",
        "   return np_image\n",
        "image = load('/content/Coronaro_dataset/stenosis/S_pz03.jpeg')\n",
        "img=np.argmax(model.predict(image),1)\n",
        "image2=load('/content/Coronaro_dataset/background/BG_pz03a.jpeg')\n",
        "img2=np.argmax(model.predict(image2),1)\n"
      ]
    },
    {
      "cell_type": "code",
      "execution_count": 34,
      "metadata": {
        "colab": {
          "base_uri": "https://localhost:8080/",
          "height": 596
        },
        "id": "MXqmwYljA2Qq",
        "outputId": "f0fd34b4-c88b-41a8-ffc4-e43c7bf441b8"
      },
      "outputs": [
        {
          "output_type": "stream",
          "name": "stderr",
          "text": [
            "/usr/local/lib/python3.8/dist-packages/matplotlib/text.py:1165: FutureWarning: elementwise comparison failed; returning scalar instead, but in the future will perform elementwise comparison\n",
            "  if s != self._text:\n"
          ]
        },
        {
          "output_type": "display_data",
          "data": {
            "text/plain": [
              "<Figure size 432x288 with 1 Axes>"
            ],
            "image/png": "[encoded data removed]"
          },
          "metadata": {
            "needs_background": "light"
          }
        },
        {
          "output_type": "display_data",
          "data": {
            "text/plain": [
              "<Figure size 432x288 with 1 Axes>"
            ],
            "image/png": "[encoded data removed]"
          },
          "metadata": {
            "needs_background": "light"
          }
        }
      ],
      "source": [
        "from skimage import io\n",
        "# Load the image\n",
        "org_img = io.imread('/content/Coronaro_dataset/stenosis/S_pz03.jpeg')\n",
        "org_img = transform.resize(org_img, (224, 224))\n",
        "plt.imshow(org_img)\n",
        "plt.text(0.5, 0.5, img, fontsize=18, color='red')\n",
        "plt.show()\n",
        "\n",
        "\n",
        "# Load the image\n",
        "org_img2 = io.imread('/content/Coronaro_dataset/background/BG_pz03a.jpeg')\n",
        "org_img2 = transform.resize(org_img2, (224, 224))\n",
        "plt.imshow(org_img2)\n",
        "plt.text(0, 0, img2, fontsize=18, color='red')\n",
        "plt.show()"
      ]
    },
    {
      "cell_type": "code",
      "execution_count": 35,
      "metadata": {
        "colab": {
          "base_uri": "https://localhost:8080/",
          "height": 269
        },
        "id": "YyAJIOoDA3yc",
        "outputId": "436ac13d-9623-4afe-c7f3-d4b3d6704450"
      },
      "outputs": [
        {
          "output_type": "display_data",
          "data": {
            "text/plain": [
              "<Figure size 432x288 with 2 Axes>"
            ],
            "image/png": "[encoded data removed]"
          },
          "metadata": {
            "needs_background": "light"
          }
        }
      ],
      "source": [
        "import seaborn as sns\n",
        "from sklearn.metrics import confusion_matrix, ConfusionMatrixDisplay\n",
        "cm = confusion_matrix(y_test, y_pred, labels=list(class_names))\n",
        "#disp = ConfusionMatrixDisplay(confusion_matrix=cm,\n",
        "                               #display_labels=list(class_names))\n",
        "sns.heatmap(cm, annot=True, fmt=\"d\")\n",
        "#disp.plot(cmap='Blues')\n",
        "plt.show()"
      ]
    },
    {
      "cell_type": "code",
      "execution_count": 36,
      "metadata": {
        "colab": {
          "base_uri": "https://localhost:8080/",
          "height": 287
        },
        "id": "4pGnuJZdA9d5",
        "outputId": "7b3dcd1b-b27c-428d-eec0-4529b4f4555d"
      },
      "outputs": [
        {
          "output_type": "execute_result",
          "data": {
            "text/plain": [
              "<matplotlib.axes._subplots.AxesSubplot at 0x7fad52755220>"
            ]
          },
          "metadata": {},
          "execution_count": 36
        },
        {
          "output_type": "display_data",
          "data": {
            "text/plain": [
              "<Figure size 432x288 with 2 Axes>"
            ],
            "image/png": "[encoded data removed]"
          },
          "metadata": {
            "needs_background": "light"
          }
        }
      ],
      "source": [
        "cm = cm.astype('float') / cm.sum(axis=1)\n",
        "sns.heatmap(cm, annot=True, \n",
        "            fmt='.2%')"
      ]
    },
    {
      "cell_type": "code",
      "execution_count": 37,
      "metadata": {
        "colab": {
          "base_uri": "https://localhost:8080/",
          "height": 241
        },
        "id": "dg6zbuBzBH0T",
        "outputId": "eb33575a-f6af-433a-c567-cc6919bf0f2e"
      },
      "outputs": [
        {
          "output_type": "display_data",
          "data": {
            "text/plain": [
              "<Figure size 216x216 with 1 Axes>"
            ],
            "image/png": "[encoded data removed]"
          },
          "metadata": {
            "needs_background": "light"
          }
        }
      ],
      "source": [
        "from sklearn.metrics import roc_curve\n",
        "fpr1, tpr1, thresholds2=roc_curve(y_test,y_pred)\n",
        "plt.figure(figsize=(3,3))\n",
        "plt.plot([0, 1], [0, 1], '--',color='orange',label='Thresold')\n",
        "plt.plot(fpr1, tpr1,color='black',label='corona model')\n",
        "plt.ylabel('True positive rate(Recall)')\n",
        "plt.xlabel('False positive rate')\n",
        "plt.title('ROC')\n",
        "plt.grid()\n",
        "plt.legend()\n",
        "plt.show()"
      ]
    }
  ],
  "metadata": {
    "colab": {
      "provenance": [],
      "authorship_tag": "ABX9TyN+vZCzgci4QrPr6zQ2RwYv",
      "include_colab_link": true
    },
    "kernelspec": {
      "display_name": "Python 3",
      "name": "python3"
    },
    "language_info": {
      "name": "python"
    }
  },
  "nbformat": 4,
  "nbformat_minor": 0
}